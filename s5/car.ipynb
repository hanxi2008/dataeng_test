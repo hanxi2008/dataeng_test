{
 "cells": [
  {
   "cell_type": "code",
   "execution_count": 1,
   "id": "2419329c",
   "metadata": {},
   "outputs": [
    {
     "data": {
      "text/html": [
       "<div>\n",
       "<style scoped>\n",
       "    .dataframe tbody tr th:only-of-type {\n",
       "        vertical-align: middle;\n",
       "    }\n",
       "\n",
       "    .dataframe tbody tr th {\n",
       "        vertical-align: top;\n",
       "    }\n",
       "\n",
       "    .dataframe thead th {\n",
       "        text-align: right;\n",
       "    }\n",
       "</style>\n",
       "<table border=\"1\" class=\"dataframe\">\n",
       "  <thead>\n",
       "    <tr style=\"text-align: right;\">\n",
       "      <th></th>\n",
       "      <th>buying</th>\n",
       "      <th>maint</th>\n",
       "      <th>doors</th>\n",
       "      <th>persons</th>\n",
       "      <th>lug_boot</th>\n",
       "      <th>safety</th>\n",
       "      <th>class</th>\n",
       "    </tr>\n",
       "  </thead>\n",
       "  <tbody>\n",
       "    <tr>\n",
       "      <th>0</th>\n",
       "      <td>vhigh</td>\n",
       "      <td>vhigh</td>\n",
       "      <td>2</td>\n",
       "      <td>2</td>\n",
       "      <td>small</td>\n",
       "      <td>med</td>\n",
       "      <td>unacc</td>\n",
       "    </tr>\n",
       "    <tr>\n",
       "      <th>1</th>\n",
       "      <td>vhigh</td>\n",
       "      <td>vhigh</td>\n",
       "      <td>2</td>\n",
       "      <td>2</td>\n",
       "      <td>small</td>\n",
       "      <td>high</td>\n",
       "      <td>unacc</td>\n",
       "    </tr>\n",
       "    <tr>\n",
       "      <th>2</th>\n",
       "      <td>vhigh</td>\n",
       "      <td>vhigh</td>\n",
       "      <td>2</td>\n",
       "      <td>2</td>\n",
       "      <td>med</td>\n",
       "      <td>low</td>\n",
       "      <td>unacc</td>\n",
       "    </tr>\n",
       "    <tr>\n",
       "      <th>3</th>\n",
       "      <td>vhigh</td>\n",
       "      <td>vhigh</td>\n",
       "      <td>2</td>\n",
       "      <td>2</td>\n",
       "      <td>med</td>\n",
       "      <td>med</td>\n",
       "      <td>unacc</td>\n",
       "    </tr>\n",
       "    <tr>\n",
       "      <th>4</th>\n",
       "      <td>vhigh</td>\n",
       "      <td>vhigh</td>\n",
       "      <td>2</td>\n",
       "      <td>2</td>\n",
       "      <td>med</td>\n",
       "      <td>high</td>\n",
       "      <td>unacc</td>\n",
       "    </tr>\n",
       "  </tbody>\n",
       "</table>\n",
       "</div>"
      ],
      "text/plain": [
       "  buying  maint doors persons lug_boot safety  class\n",
       "0  vhigh  vhigh     2       2    small    med  unacc\n",
       "1  vhigh  vhigh     2       2    small   high  unacc\n",
       "2  vhigh  vhigh     2       2      med    low  unacc\n",
       "3  vhigh  vhigh     2       2      med    med  unacc\n",
       "4  vhigh  vhigh     2       2      med   high  unacc"
      ]
     },
     "execution_count": 1,
     "metadata": {},
     "output_type": "execute_result"
    }
   ],
   "source": [
    "import pandas as pd\n",
    "import requests\n",
    "\n",
    "url = \"https://archive.ics.uci.edu/ml/machine-learning-databases/car/car.data\"\n",
    "df = pd.read_csv(url )\n",
    "df.columns = [\"buying\", \"maint\", \"doors\", \"persons\", \"lug_boot\", \"safety\",\"class\"]\n",
    "df.head(5)"
   ]
  },
  {
   "cell_type": "code",
   "execution_count": 2,
   "id": "4f2a11b7",
   "metadata": {},
   "outputs": [
    {
     "data": {
      "text/plain": [
       "<bound method NDFrame.describe of       buying  maint doors persons  lug_boot  safety  class\n",
       "0          4      4     2       2         1       2      1\n",
       "1          4      4     2       2         1       3      1\n",
       "2          4      4     2       2         2       1      1\n",
       "3          4      4     2       2         2       2      1\n",
       "4          4      4     2       2         2       3      1\n",
       "...      ...    ...   ...     ...       ...     ...    ...\n",
       "1722       1      1     6       5         2       2      3\n",
       "1723       1      1     6       5         2       3      4\n",
       "1724       1      1     6       5         3       1      1\n",
       "1725       1      1     6       5         3       2      3\n",
       "1726       1      1     6       5         3       3      4\n",
       "\n",
       "[1727 rows x 7 columns]>"
      ]
     },
     "execution_count": 2,
     "metadata": {},
     "output_type": "execute_result"
    }
   ],
   "source": [
    "# encode the labels:\n",
    "# vhigh=4 high=3 med=2  low=1\n",
    "# 5more=6 more =5\n",
    "# small=1 med=2 big=3\n",
    "# unacc=1 acc=2 good=3 vgood=4\n",
    "\n",
    "df = df.replace('vhigh',4)\n",
    "df = df.replace('high',3)\n",
    "df = df.replace('med',2)\n",
    "df = df.replace('low',1)\n",
    "df = df.replace('5more',6)\n",
    "df = df.replace('more',5)\n",
    "df = df.replace('small',1)\n",
    "df = df.replace('big',3)\n",
    "df = df.replace('vgood',4)\n",
    "df = df.replace('good',3)\n",
    "df = df.replace('acc',2)\n",
    "df = df.replace('unacc',1)\n",
    "df.describe"
   ]
  },
  {
   "cell_type": "code",
   "execution_count": 3,
   "id": "4e430bd8",
   "metadata": {},
   "outputs": [],
   "source": [
    "from sklearn.model_selection import train_test_split\n",
    "from sklearn.tree import DecisionTreeClassifier \n",
    "from sklearn.metrics import confusion_matrix\n",
    "\n",
    "X = df[[\"maint\", \"doors\", \"lug_boot\", \"safety\",\"class\"]]\n",
    "y = df[\"buying\"]\n",
    "X_train, X_test, y_train, y_test = train_test_split(X, y, test_size = 0.8, random_state=2)"
   ]
  },
  {
   "cell_type": "code",
   "execution_count": 4,
   "id": "39aa7470",
   "metadata": {},
   "outputs": [
    {
     "name": "stdout",
     "output_type": "stream",
     "text": [
      "0.3154848046309696\n"
     ]
    }
   ],
   "source": [
    "DT_classifier = DecisionTreeClassifier( criterion= 'gini', max_depth= 5, min_samples_split= 10)\n",
    "DT_classifier.fit(X_train, y_train)\n",
    "\n",
    "y_pred = DT_classifier.predict(X_test)\n",
    "\n",
    "confusion_matrix(y_test, y_pred)\n",
    "a = confusion_matrix(y_test, y_pred).ravel()\n",
    "# print accuracy rate\n",
    "print((a[0]+a[5]+a[10]+a[15])/a.sum()) "
   ]
  },
  {
   "cell_type": "code",
   "execution_count": 5,
   "id": "acf5ff8e",
   "metadata": {},
   "outputs": [
    {
     "name": "stdout",
     "output_type": "stream",
     "text": [
      "0.29280397022332505\n"
     ]
    }
   ],
   "source": [
    "from sklearn.model_selection import train_test_split\n",
    "from sklearn.ensemble import RandomForestClassifier\n",
    "from sklearn.metrics import confusion_matrix\n",
    "\n",
    "RF_classifier = RandomForestClassifier(n_estimators=5,criterion= 'gini',max_depth=5, random_state=2,min_samples_split=20) \n",
    "\n",
    "X_train, X_test, y_train, y_test = train_test_split(X, y, test_size = 0.7, random_state=2)\n",
    "RF_classifier.fit(X_train, y_train)\n",
    "\n",
    "y_predrf = RF_classifier.predict(X_test)\n",
    "\n",
    "a = confusion_matrix(y_test, y_predrf).ravel()\n",
    "print((a[0]+a[5]+a[10]+a[15])/a.sum()) \n"
   ]
  },
  {
   "cell_type": "code",
   "execution_count": 6,
   "id": "971689dc",
   "metadata": {},
   "outputs": [
    {
     "name": "stdout",
     "output_type": "stream",
     "text": [
      "[1]\n",
      "[1]\n"
     ]
    }
   ],
   "source": [
    "# Maintenance = High\n",
    "# Number of doors = 4\n",
    "# Lug Boot Size = Big\n",
    "# Safety = High\n",
    "# Class Value = Good\n",
    "\n",
    "data = [[3,4,3,3,3]]\n",
    " \n",
    "# Create the pandas DataFrame\n",
    "ndf = pd.DataFrame(data, columns = [\"maint\", \"doors\", \"lug_boot\", \"safety\",\"class\"])\n",
    " \n",
    "# print dataframe.\n",
    "\n",
    "\n",
    "print(DT_classifier.predict(ndf))\n",
    "\n",
    "print(RF_classifier.predict(ndf))"
   ]
  },
  {
   "cell_type": "code",
   "execution_count": null,
   "id": "9d5a9386",
   "metadata": {},
   "outputs": [],
   "source": [
    "# both predict it's low price"
   ]
  }
 ],
 "metadata": {
  "kernelspec": {
   "display_name": "Python 3 (ipykernel)",
   "language": "python",
   "name": "python3"
  },
  "language_info": {
   "codemirror_mode": {
    "name": "ipython",
    "version": 3
   },
   "file_extension": ".py",
   "mimetype": "text/x-python",
   "name": "python",
   "nbconvert_exporter": "python",
   "pygments_lexer": "ipython3",
   "version": "3.8.10"
  }
 },
 "nbformat": 4,
 "nbformat_minor": 5
}
