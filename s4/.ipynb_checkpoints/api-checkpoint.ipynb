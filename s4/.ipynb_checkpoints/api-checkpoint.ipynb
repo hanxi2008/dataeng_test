{
 "cells": [
  {
   "cell_type": "code",
   "execution_count": 1,
   "id": "36c0819f",
   "metadata": {},
   "outputs": [
    {
     "data": {
      "text/html": [
       "<div>\n",
       "<style scoped>\n",
       "    .dataframe tbody tr th:only-of-type {\n",
       "        vertical-align: middle;\n",
       "    }\n",
       "\n",
       "    .dataframe tbody tr th {\n",
       "        vertical-align: top;\n",
       "    }\n",
       "\n",
       "    .dataframe thead th {\n",
       "        text-align: right;\n",
       "    }\n",
       "</style>\n",
       "<table border=\"1\" class=\"dataframe\">\n",
       "  <thead>\n",
       "    <tr style=\"text-align: right;\">\n",
       "      <th></th>\n",
       "      <th>ID</th>\n",
       "      <th>Country</th>\n",
       "      <th>CountryCode</th>\n",
       "      <th>Province</th>\n",
       "      <th>City</th>\n",
       "      <th>CityCode</th>\n",
       "      <th>Lat</th>\n",
       "      <th>Lon</th>\n",
       "      <th>Confirmed</th>\n",
       "      <th>Deaths</th>\n",
       "      <th>Recovered</th>\n",
       "      <th>Active</th>\n",
       "      <th>Date</th>\n",
       "    </tr>\n",
       "  </thead>\n",
       "  <tbody>\n",
       "    <tr>\n",
       "      <th>0</th>\n",
       "      <td>cd44f9b4-23ea-4e27-8c63-b006af178415</td>\n",
       "      <td>Singapore</td>\n",
       "      <td>SG</td>\n",
       "      <td></td>\n",
       "      <td></td>\n",
       "      <td></td>\n",
       "      <td>1.35</td>\n",
       "      <td>103.82</td>\n",
       "      <td>359075</td>\n",
       "      <td>858</td>\n",
       "      <td>0</td>\n",
       "      <td>358217</td>\n",
       "      <td>2022-02-01T00:00:00Z</td>\n",
       "    </tr>\n",
       "    <tr>\n",
       "      <th>1</th>\n",
       "      <td>861d7646-1e4e-4494-9d32-f2643773130c</td>\n",
       "      <td>Singapore</td>\n",
       "      <td>SG</td>\n",
       "      <td></td>\n",
       "      <td></td>\n",
       "      <td></td>\n",
       "      <td>1.35</td>\n",
       "      <td>103.82</td>\n",
       "      <td>362176</td>\n",
       "      <td>859</td>\n",
       "      <td>0</td>\n",
       "      <td>361317</td>\n",
       "      <td>2022-02-02T00:00:00Z</td>\n",
       "    </tr>\n",
       "    <tr>\n",
       "      <th>2</th>\n",
       "      <td>8c9be688-7956-4889-865f-c1d916abfbcc</td>\n",
       "      <td>Singapore</td>\n",
       "      <td>SG</td>\n",
       "      <td></td>\n",
       "      <td></td>\n",
       "      <td></td>\n",
       "      <td>1.35</td>\n",
       "      <td>103.82</td>\n",
       "      <td>366473</td>\n",
       "      <td>860</td>\n",
       "      <td>0</td>\n",
       "      <td>365613</td>\n",
       "      <td>2022-02-03T00:00:00Z</td>\n",
       "    </tr>\n",
       "    <tr>\n",
       "      <th>3</th>\n",
       "      <td>c50ae8b2-04ce-4ad8-989a-9aa0f82a5fc0</td>\n",
       "      <td>Singapore</td>\n",
       "      <td>SG</td>\n",
       "      <td></td>\n",
       "      <td></td>\n",
       "      <td></td>\n",
       "      <td>1.35</td>\n",
       "      <td>103.82</td>\n",
       "      <td>379681</td>\n",
       "      <td>866</td>\n",
       "      <td>0</td>\n",
       "      <td>378815</td>\n",
       "      <td>2022-02-04T00:00:00Z</td>\n",
       "    </tr>\n",
       "    <tr>\n",
       "      <th>4</th>\n",
       "      <td>7af72568-f640-4617-8a1d-b7f603d428c8</td>\n",
       "      <td>Singapore</td>\n",
       "      <td>SG</td>\n",
       "      <td></td>\n",
       "      <td></td>\n",
       "      <td></td>\n",
       "      <td>1.35</td>\n",
       "      <td>103.82</td>\n",
       "      <td>379681</td>\n",
       "      <td>866</td>\n",
       "      <td>0</td>\n",
       "      <td>378815</td>\n",
       "      <td>2022-02-05T00:00:00Z</td>\n",
       "    </tr>\n",
       "  </tbody>\n",
       "</table>\n",
       "</div>"
      ],
      "text/plain": [
       "                                     ID    Country CountryCode Province City  \\\n",
       "0  cd44f9b4-23ea-4e27-8c63-b006af178415  Singapore          SG                 \n",
       "1  861d7646-1e4e-4494-9d32-f2643773130c  Singapore          SG                 \n",
       "2  8c9be688-7956-4889-865f-c1d916abfbcc  Singapore          SG                 \n",
       "3  c50ae8b2-04ce-4ad8-989a-9aa0f82a5fc0  Singapore          SG                 \n",
       "4  7af72568-f640-4617-8a1d-b7f603d428c8  Singapore          SG                 \n",
       "\n",
       "  CityCode   Lat     Lon  Confirmed  Deaths  Recovered  Active  \\\n",
       "0           1.35  103.82     359075     858          0  358217   \n",
       "1           1.35  103.82     362176     859          0  361317   \n",
       "2           1.35  103.82     366473     860          0  365613   \n",
       "3           1.35  103.82     379681     866          0  378815   \n",
       "4           1.35  103.82     379681     866          0  378815   \n",
       "\n",
       "                   Date  \n",
       "0  2022-02-01T00:00:00Z  \n",
       "1  2022-02-02T00:00:00Z  \n",
       "2  2022-02-03T00:00:00Z  \n",
       "3  2022-02-04T00:00:00Z  \n",
       "4  2022-02-05T00:00:00Z  "
      ]
     },
     "execution_count": 1,
     "metadata": {},
     "output_type": "execute_result"
    }
   ],
   "source": [
    "import requests\n",
    "import pandas as pd\n",
    "import seaborn as sns\n",
    "\n",
    "url = \"https://api.covid19api.com/country/singapore?from=2022-02-01T00:00:00Z&to=2022-03-01T00:00:00Z\"\n",
    "\n",
    "payload={}\n",
    "headers = {}\n",
    "\n",
    "response = requests.request(\"GET\", url, headers=headers, data=payload)\n",
    "\n",
    "df = pd.DataFrame.from_dict(response.json())\n",
    "\n",
    "df.head(5)"
   ]
  },
  {
   "cell_type": "code",
   "execution_count": 2,
   "id": "97aa6a29",
   "metadata": {},
   "outputs": [],
   "source": [
    "df['Date'] = pd.to_datetime(df['Date'], format = '%Y-%m-%d')"
   ]
  },
  {
   "cell_type": "code",
   "execution_count": 3,
   "id": "a2409d6a",
   "metadata": {},
   "outputs": [
    {
     "data": {
      "text/plain": [
       "<seaborn.axisgrid.FacetGrid at 0x7f62d4214d90>"
      ]
     },
     "execution_count": 3,
     "metadata": {},
     "output_type": "execute_result"
    },
    {
     "data": {
      "image/png": "[encoded data removed]",
      "text/plain": [
       "<Figure size 864x360 with 1 Axes>"
      ]
     },
     "metadata": {
      "needs_background": "light"
     },
     "output_type": "display_data"
    }
   ],
   "source": [
    "sns.relplot(\n",
    "    data=df, \n",
    "    x=\"Date\", y=\"Confirmed\",\n",
    "    height=5, aspect=2.4, \n",
    "    kind=\"line\"\n",
    ").set(\n",
    "    title=\"Singapore Covid\", \n",
    "    ylabel=\"Confirmed Cases\",\n",
    "    xlabel=None\n",
    ")"
   ]
  },
  {
   "cell_type": "code",
   "execution_count": null,
   "id": "8e9f8341",
   "metadata": {},
   "outputs": [],
   "source": []
  }
 ],
 "metadata": {
  "kernelspec": {
   "display_name": "Python 3 (ipykernel)",
   "language": "python",
   "name": "python3"
  },
  "language_info": {
   "codemirror_mode": {
    "name": "ipython",
    "version": 3
   },
   "file_extension": ".py",
   "mimetype": "text/x-python",
   "name": "python",
   "nbconvert_exporter": "python",
   "pygments_lexer": "ipython3",
   "version": "3.8.10"
  }
 },
 "nbformat": 4,
 "nbformat_minor": 5
}
